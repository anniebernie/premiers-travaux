{
 "cells": [
  {
   "cell_type": "code",
   "execution_count": 10,
   "id": "ba365bef",
   "metadata": {
    "scrolled": true
   },
   "outputs": [],
   "source": [
    "def startBerber_fan():\n",
    "    print(\"Bienvenue sur Berber fan's\")\n",
    "    print(\"Nous offrons une experience hors du commun\")\n",
    "    print(\"Pour y acceder vous devez etre majeur.\")\n",
    "    print(\"Veuillez indiquez votre age\")\n",
    "    age_user = int(input())\n",
    "\n",
    "    if age_user >= 18 :\n",
    "        print (\"Nous sommes heureux de vous compter parmi nos membres\")\n",
    "        return True\n",
    "    else :\n",
    "        print (\"Nous sommes dans le regret de vous refuser l'acces, revenez une fois majeur.\")\n",
    "        return False\n",
    "\n"
   ]
  },
  {
   "cell_type": "code",
   "execution_count": 15,
   "id": "756a2710",
   "metadata": {},
   "outputs": [
    {
     "name": "stdout",
     "output_type": "stream",
     "text": [
      "Bienvenue sur Berber fan's\n",
      "Nous offrons une experience hors du commun\n",
      "Pour y acceder vous devez etre majeur.\n",
      "Veuillez indiquez votre age\n",
      "12\n",
      "Nous sommes dans le regret de vous refuser l'acces, revenez une fois majeur.\n"
     ]
    },
    {
     "data": {
      "text/plain": [
       "False"
      ]
     },
     "execution_count": 15,
     "metadata": {},
     "output_type": "execute_result"
    }
   ],
   "source": [
    "startBerber_fan()"
   ]
  },
  {
   "cell_type": "code",
   "execution_count": null,
   "id": "edd89cd9",
   "metadata": {},
   "outputs": [],
   "source": []
  },
  {
   "cell_type": "code",
   "execution_count": null,
   "id": "dc0d9c33",
   "metadata": {},
   "outputs": [],
   "source": []
  }
 ],
 "metadata": {
  "kernelspec": {
   "display_name": "Python 3 (ipykernel)",
   "language": "python",
   "name": "python3"
  },
  "language_info": {
   "codemirror_mode": {
    "name": "ipython",
    "version": 3
   },
   "file_extension": ".py",
   "mimetype": "text/x-python",
   "name": "python",
   "nbconvert_exporter": "python",
   "pygments_lexer": "ipython3",
   "version": "3.9.13"
  }
 },
 "nbformat": 4,
 "nbformat_minor": 5
}
