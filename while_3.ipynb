{
 "cells": [
  {
   "cell_type": "code",
   "execution_count": 13,
   "id": "4fee4cbb",
   "metadata": {},
   "outputs": [
    {
     "name": "stdout",
     "output_type": "stream",
     "text": [
      "Nous avons trouvé le nombre de fois qu'il faut plier la feuille pour avoir une epaisseur de 324 m\n",
      "il faut plier la feuille de papier 3241000 fois\n"
     ]
    }
   ],
   "source": [
    "# Exo\n",
    "# feuille de papier 0.1 mm nmbr de fois doit on la plier pour avoir une epaisseur de la hauteur de la tour Eiffel soit 324m\n",
    "\n",
    "epaisseur_feuille = 0.1\n",
    "nmbr = 1\n",
    "epaisseur = 0.1\n",
    "eiffel = 324\n",
    "\n",
    "while nmbr > 0 :\n",
    "    epaisseur = epaisseur_feuille * nmbr\n",
    "    nmbr = nmbr + 1\n",
    "    #print(nmbr, epaisseur)\n",
    "    if epaisseur == eiffel:\n",
    "        print(\"Nous avons trouvé le nombre de fois qu'il faut plier la feuille pour avoir une epaisseur de 324 m\")\n",
    "        print(\"il faut plier la feuille de papier\",nmbr*(10**3) ,\"fois\")\n",
    "        break "
   ]
  },
  {
   "cell_type": "code",
   "execution_count": null,
   "id": "de9106d1",
   "metadata": {},
   "outputs": [],
   "source": []
  }
 ],
 "metadata": {
  "kernelspec": {
   "display_name": "Python 3 (ipykernel)",
   "language": "python",
   "name": "python3"
  },
  "language_info": {
   "codemirror_mode": {
    "name": "ipython",
    "version": 3
   },
   "file_extension": ".py",
   "mimetype": "text/x-python",
   "name": "python",
   "nbconvert_exporter": "python",
   "pygments_lexer": "ipython3",
   "version": "3.9.13"
  }
 },
 "nbformat": 4,
 "nbformat_minor": 5
}
