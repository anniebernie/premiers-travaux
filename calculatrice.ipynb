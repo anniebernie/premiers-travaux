{
 "cells": [
  {
   "cell_type": "code",
   "execution_count": null,
   "id": "dd1dd94e",
   "metadata": {},
   "outputs": [
    {
     "name": "stdout",
     "output_type": "stream",
     "text": [
      "Bienvenu !\n",
      "Avec cette calculatrive vous pouvez faire que quatre types d'operations\n",
      "a - Addition\n",
      "s - Soustration\n",
      "m - Multiplication\n",
      "d - Division\n",
      "f - Factoriel\n",
      "l - Afficher la dernière valeur\n",
      "x - Quitter\n",
      "Veuillez selectionnez la lettre correspondante au type d'operation que vous souhaitez effectuer.\n",
      "Par exemple si vous voulez faire une division veuillez entrer la \"d\"\n",
      "f\n",
      "Saisissez un nombre entier positif :\n",
      "4\n",
      "4 ! est : 12\n",
      "a - Addition\n",
      "s - Soustration\n",
      "m - Multiplication\n",
      "d - Division\n",
      "f - Factoriel\n",
      "l - Afficher la dernière valeur\n",
      "x - Quitter\n",
      "Veuillez selectionnez la lettre correspondante au type d'operation que vous souhaitez effectuer.\n",
      "Par exemple si vous voulez faire une division veuillez entrer la \"d\"\n"
     ]
    }
   ],
   "source": [
    "# Faire une calculatrice qui effectue les 4 operations de base\n",
    "\n",
    "# Afficher le message d'entrée avec le type de service que ce prgm offre (Step1)\n",
    "# Ecrire la liste operation que la calculatrice aura a effectuer (step2)\n",
    "# Permettre a l'utilisateur de choisir le type d'operation (step3)\n",
    "# Permettre a l'utilisateur de rentrer les donnees max 2 valeurs (Step4)\n",
    "# Faire en sorte que la boucle s'arrete quand l'utilisateur choisi de Stopper la boucle (step5) \n",
    "# Ajouter la fonction factorielle\n",
    "# Ajouter la fonction qui permet de sauvegarder le dernier resultat \n",
    "\n",
    "operation = ''\n",
    "\n",
    "\n",
    "print(\"Bienvenu !\")\n",
    "print(\"Avec cette calculatrive vous pouvez faire que quatre types d'operations\")\n",
    "while True :\n",
    "   \n",
    "    print(\"a - Addition\")\n",
    "    print(\"s - Soustration\")\n",
    "    print(\"m - Multiplication\")\n",
    "    print(\"d - Division\")\n",
    "    print(\"f - Factoriel\")\n",
    "    print(\"l - Afficher la dernière valeur\")\n",
    "    print(\"x - Quitter\")\n",
    "    \n",
    "    print(\"Veuillez selectionnez la lettre correspondante au type d'operation que vous souhaitez effectuer.\")\n",
    "    print('Par exemple si vous voulez faire une division veuillez entrer la \"d\"')\n",
    "\n",
    "    operation = (input())\n",
    "\n",
    "\n",
    "    \n",
    "    if operation == \"a\" :\n",
    "        \n",
    "        print(\"Vous avez choisi de faire une addition\")\n",
    "\n",
    "        print(\"Veuillez saisir la premiere valeur.\")\n",
    "        frst_value = float(input())\n",
    "\n",
    "        print(\"Veuillez saisir la seconde valeur.\")\n",
    "        scd_value = float(input())\n",
    "\n",
    "        resultat = frst_value + scd_value\n",
    "        print(frst_value,\"+\",scd_value,\"=\",resultat)\n",
    "             \n",
    "\n",
    "    \n",
    "    elif operation == \"s\" :\n",
    "        \n",
    "        print(\"Vous avez choisi de faire une soustraction\")\n",
    "        \n",
    "        print(\"Veuillez saisir la premiere valeur.\")\n",
    "        frst_value = float(input())\n",
    "        \n",
    "        print(\"Veuillez saisir la seconde valeur\")\n",
    "        scd_value = float(input())\n",
    "        \n",
    "        resultat = frst_value - scd_value\n",
    "        print(frst_value,\"-\",scd_value,\"=\",resultat)\n",
    "        \n",
    "  \n",
    "        \n",
    "\n",
    "    elif operation == \"m\" :\n",
    "        \n",
    "        print(\"Vous avez choisi de faire une multiplication\")\n",
    "        \n",
    "        print(\"Veuillez saisir la premiere valeur.\")\n",
    "        frst_value = float(input())\n",
    "        \n",
    "        print(\"Veuillez saisir la seconde valeur.\")\n",
    "        scd_value = float(input())\n",
    "        \n",
    "        resultat = frst_value * scd_value\n",
    "        print(frst_value,\"*\",scd_value,\"=\",resultat)\n",
    "        \n",
    "       \n",
    "        \n",
    "        \n",
    "    elif operation == \"d\" :\n",
    "        \n",
    "        print(\"Vous avez choisi de faire une division\")\n",
    "        \n",
    "        print(\"Veuillez saisir la premiere valeur.\")\n",
    "        frst_value = float(input())\n",
    "        \n",
    "        print(\"Veuillez saisir la seconde valeur\")\n",
    "        scd_value = float(input())\n",
    "        \n",
    "        \n",
    "        \n",
    "        if scd_value == 0 :\n",
    "            print(\"La division par zero est impossible et aboutirait a des contresens mathematiques\")\n",
    "            break\n",
    "        \n",
    "        else :\n",
    "            resultat = frst_value / scd_value\n",
    "            print(frst_value,\"/\",scd_value,\"=\",resultat)\n",
    "            \n",
    "            \n",
    "    elif operation == \"f\" :\n",
    "            print(\"Saisissez un nombre entier positif :\")\n",
    "            valeur = int(input())\n",
    "                \n",
    "            if valeur == 0 :\n",
    "                print(\"0! vaut 1.\")\n",
    "        \n",
    "            elif valeur < 0 :\n",
    "                print(\"Le nombre que vous avez saisi est negatif entrez un nombre positif svp\")\n",
    "        \n",
    "            else :\n",
    "                valeur_dep = valeur \n",
    "                resultat = valeur_dep*(valeur - 1)\n",
    "                valeur = valeur - 1\n",
    "                \n",
    "                print(valeur_dep,\"! est :\",resultat)\n",
    "                \n",
    "    \n",
    "    elif operation == \"x\" :\n",
    "    \n",
    "        print(\"Merci et à la prochaine .\")\n",
    "        break\n",
    "\n",
    "    else :\n",
    "        print(\"Erreur ! Reessayez en entrant a,s,m,d,ou x en fonction de l'operation que vous desirez effectuer\")"
   ]
  },
  {
   "cell_type": "code",
   "execution_count": null,
   "id": "daf5ec37",
   "metadata": {},
   "outputs": [],
   "source": [
    "\n",
    "\n",
    "\n",
    "\n",
    "\n",
    "\n",
    "\n",
    "\n"
   ]
  },
  {
   "cell_type": "code",
   "execution_count": null,
   "id": "c1945eca",
   "metadata": {},
   "outputs": [],
   "source": []
  },
  {
   "cell_type": "code",
   "execution_count": 77,
   "id": "67477e4c",
   "metadata": {
    "collapsed": true
   },
   "outputs": [
    {
     "ename": "TypeError",
     "evalue": "unsupported operand type(s) for -: 'str' and 'int'",
     "output_type": "error",
     "traceback": [
      "\u001b[1;31m---------------------------------------------------------------------------\u001b[0m",
      "\u001b[1;31mTypeError\u001b[0m                                 Traceback (most recent call last)",
      "\u001b[1;32m~\\AppData\\Local\\Temp\\ipykernel_568\\1855904084.py\u001b[0m in \u001b[0;36m<module>\u001b[1;34m\u001b[0m\n\u001b[0;32m      2\u001b[0m \u001b[1;33m\u001b[0m\u001b[0m\n\u001b[0;32m      3\u001b[0m \u001b[0mv1\u001b[0m \u001b[1;33m=\u001b[0m \u001b[1;34m\"\"\u001b[0m\u001b[1;33m\u001b[0m\u001b[1;33m\u001b[0m\u001b[0m\n\u001b[1;32m----> 4\u001b[1;33m \u001b[0mv2\u001b[0m \u001b[1;33m=\u001b[0m \u001b[0mv1\u001b[0m \u001b[1;33m-\u001b[0m \u001b[1;36m1\u001b[0m\u001b[1;33m\u001b[0m\u001b[1;33m\u001b[0m\u001b[0m\n\u001b[0m\u001b[0;32m      5\u001b[0m \u001b[1;32mwhile\u001b[0m \u001b[0mv2\u001b[0m \u001b[1;33m==\u001b[0m \u001b[0mv1\u001b[0m \u001b[1;33m-\u001b[0m \u001b[1;36m1\u001b[0m \u001b[1;33m:\u001b[0m\u001b[1;33m\u001b[0m\u001b[1;33m\u001b[0m\u001b[0m\n\u001b[0;32m      6\u001b[0m     \u001b[0mprint\u001b[0m\u001b[1;33m(\u001b[0m\u001b[1;34m\"Entrer Le nombre\"\u001b[0m\u001b[1;33m)\u001b[0m\u001b[1;33m\u001b[0m\u001b[1;33m\u001b[0m\u001b[0m\n",
      "\u001b[1;31mTypeError\u001b[0m: unsupported operand type(s) for -: 'str' and 'int'"
     ]
    }
   ],
   "source": [
    "\n",
    "    \n",
    "    \n",
    "    "
   ]
  },
  {
   "cell_type": "code",
   "execution_count": 113,
   "id": "f839aa19",
   "metadata": {},
   "outputs": [
    {
     "name": "stdout",
     "output_type": "stream",
     "text": [
      "Saisissez un nombre entier positif.\n",
      "25\n",
      "ok\n",
      "Saisissez un nombre entier positif.\n",
      "-5\n",
      "Ce nombre est negatif. Reessayez !!\n",
      "Saisissez un nombre entier positif.\n",
      "0\n",
      "La factorielle de  0 est 1 \n",
      "Saisissez un nombre entier positif.\n"
     ]
    },
    {
     "ename": "KeyboardInterrupt",
     "evalue": "Interrupted by user",
     "output_type": "error",
     "traceback": [
      "\u001b[1;31m---------------------------------------------------------------------------\u001b[0m",
      "\u001b[1;31mKeyboardInterrupt\u001b[0m                         Traceback (most recent call last)",
      "\u001b[1;32m~\\AppData\\Local\\Temp\\ipykernel_568\\3372877215.py\u001b[0m in \u001b[0;36m<module>\u001b[1;34m\u001b[0m\n\u001b[0;32m      3\u001b[0m \u001b[1;32mwhile\u001b[0m \u001b[1;32mTrue\u001b[0m \u001b[1;33m:\u001b[0m\u001b[1;33m\u001b[0m\u001b[1;33m\u001b[0m\u001b[0m\n\u001b[0;32m      4\u001b[0m     \u001b[0mprint\u001b[0m\u001b[1;33m(\u001b[0m\u001b[1;34m\"Saisissez un nombre entier positif.\"\u001b[0m\u001b[1;33m)\u001b[0m\u001b[1;33m\u001b[0m\u001b[1;33m\u001b[0m\u001b[0m\n\u001b[1;32m----> 5\u001b[1;33m     \u001b[0mv1\u001b[0m \u001b[1;33m=\u001b[0m \u001b[0mint\u001b[0m\u001b[1;33m(\u001b[0m\u001b[0minput\u001b[0m\u001b[1;33m(\u001b[0m\u001b[1;33m)\u001b[0m\u001b[1;33m)\u001b[0m\u001b[1;33m\u001b[0m\u001b[1;33m\u001b[0m\u001b[0m\n\u001b[0m\u001b[0;32m      6\u001b[0m \u001b[1;33m\u001b[0m\u001b[0m\n\u001b[0;32m      7\u001b[0m     \u001b[1;32mif\u001b[0m \u001b[0mv1\u001b[0m \u001b[1;33m<\u001b[0m \u001b[1;36m0\u001b[0m  \u001b[1;33m:\u001b[0m\u001b[1;33m\u001b[0m\u001b[1;33m\u001b[0m\u001b[0m\n",
      "\u001b[1;32m~\\anaconda3\\lib\\site-packages\\ipykernel\\kernelbase.py\u001b[0m in \u001b[0;36mraw_input\u001b[1;34m(self, prompt)\u001b[0m\n\u001b[0;32m   1175\u001b[0m                 \u001b[1;34m\"raw_input was called, but this frontend does not support input requests.\"\u001b[0m\u001b[1;33m\u001b[0m\u001b[1;33m\u001b[0m\u001b[0m\n\u001b[0;32m   1176\u001b[0m             )\n\u001b[1;32m-> 1177\u001b[1;33m         return self._input_request(\n\u001b[0m\u001b[0;32m   1178\u001b[0m             \u001b[0mstr\u001b[0m\u001b[1;33m(\u001b[0m\u001b[0mprompt\u001b[0m\u001b[1;33m)\u001b[0m\u001b[1;33m,\u001b[0m\u001b[1;33m\u001b[0m\u001b[1;33m\u001b[0m\u001b[0m\n\u001b[0;32m   1179\u001b[0m             \u001b[0mself\u001b[0m\u001b[1;33m.\u001b[0m\u001b[0m_parent_ident\u001b[0m\u001b[1;33m[\u001b[0m\u001b[1;34m\"shell\"\u001b[0m\u001b[1;33m]\u001b[0m\u001b[1;33m,\u001b[0m\u001b[1;33m\u001b[0m\u001b[1;33m\u001b[0m\u001b[0m\n",
      "\u001b[1;32m~\\anaconda3\\lib\\site-packages\\ipykernel\\kernelbase.py\u001b[0m in \u001b[0;36m_input_request\u001b[1;34m(self, prompt, ident, parent, password)\u001b[0m\n\u001b[0;32m   1217\u001b[0m             \u001b[1;32mexcept\u001b[0m \u001b[0mKeyboardInterrupt\u001b[0m\u001b[1;33m:\u001b[0m\u001b[1;33m\u001b[0m\u001b[1;33m\u001b[0m\u001b[0m\n\u001b[0;32m   1218\u001b[0m                 \u001b[1;31m# re-raise KeyboardInterrupt, to truncate traceback\u001b[0m\u001b[1;33m\u001b[0m\u001b[1;33m\u001b[0m\u001b[0m\n\u001b[1;32m-> 1219\u001b[1;33m                 \u001b[1;32mraise\u001b[0m \u001b[0mKeyboardInterrupt\u001b[0m\u001b[1;33m(\u001b[0m\u001b[1;34m\"Interrupted by user\"\u001b[0m\u001b[1;33m)\u001b[0m \u001b[1;32mfrom\u001b[0m \u001b[1;32mNone\u001b[0m\u001b[1;33m\u001b[0m\u001b[1;33m\u001b[0m\u001b[0m\n\u001b[0m\u001b[0;32m   1220\u001b[0m             \u001b[1;32mexcept\u001b[0m \u001b[0mException\u001b[0m\u001b[1;33m:\u001b[0m\u001b[1;33m\u001b[0m\u001b[1;33m\u001b[0m\u001b[0m\n\u001b[0;32m   1221\u001b[0m                 \u001b[0mself\u001b[0m\u001b[1;33m.\u001b[0m\u001b[0mlog\u001b[0m\u001b[1;33m.\u001b[0m\u001b[0mwarning\u001b[0m\u001b[1;33m(\u001b[0m\u001b[1;34m\"Invalid Message:\"\u001b[0m\u001b[1;33m,\u001b[0m \u001b[0mexc_info\u001b[0m\u001b[1;33m=\u001b[0m\u001b[1;32mTrue\u001b[0m\u001b[1;33m)\u001b[0m\u001b[1;33m\u001b[0m\u001b[1;33m\u001b[0m\u001b[0m\n",
      "\u001b[1;31mKeyboardInterrupt\u001b[0m: Interrupted by user"
     ]
    }
   ],
   "source": [
    "# Factorielle\n",
    "\n",
    "while True :\n",
    "    print(\"Saisissez un nombre entier positif.\")\n",
    "    v1 = int(input())\n",
    "\n",
    "    if v1 < 0  :\n",
    "        print(\"Ce nombre est negatif. Reessayez !!\")\n",
    "\n",
    "    elif v1 == 0 :\n",
    "        print(\"La factorielle de \",v1,\"est 1 \")\n",
    "\n",
    "    else :\n",
    "        print(\"ok\")\n",
    "\n"
   ]
  },
  {
   "cell_type": "code",
   "execution_count": null,
   "id": "1555e48f",
   "metadata": {},
   "outputs": [],
   "source": [
    "\n"
   ]
  },
  {
   "cell_type": "code",
   "execution_count": 91,
   "id": "64bb6486",
   "metadata": {
    "collapsed": true
   },
   "outputs": [
    {
     "ename": "IndentationError",
     "evalue": "unindent does not match any outer indentation level (<tokenize>, line 15)",
     "output_type": "error",
     "traceback": [
      "\u001b[1;36m  File \u001b[1;32m\"<tokenize>\"\u001b[1;36m, line \u001b[1;32m15\u001b[0m\n\u001b[1;33m    ]\u001b[0m\n\u001b[1;37m    ^\u001b[0m\n\u001b[1;31mIndentationError\u001b[0m\u001b[1;31m:\u001b[0m unindent does not match any outer indentation level\n"
     ]
    }
   ],
   "source": []
  },
  {
   "cell_type": "code",
   "execution_count": null,
   "id": "b377d18f",
   "metadata": {},
   "outputs": [],
   "source": []
  }
 ],
 "metadata": {
  "kernelspec": {
   "display_name": "Python 3 (ipykernel)",
   "language": "python",
   "name": "python3"
  },
  "language_info": {
   "codemirror_mode": {
    "name": "ipython",
    "version": 3
   },
   "file_extension": ".py",
   "mimetype": "text/x-python",
   "name": "python",
   "nbconvert_exporter": "python",
   "pygments_lexer": "ipython3",
   "version": "3.9.13"
  }
 },
 "nbformat": 4,
 "nbformat_minor": 5
}
