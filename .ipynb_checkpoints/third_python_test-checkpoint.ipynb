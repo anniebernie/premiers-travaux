{
 "cells": [
  {
   "cell_type": "code",
   "execution_count": 5,
   "metadata": {
    "colab": {
     "base_uri": "https://localhost:8080/"
    },
    "id": "WhHzx3vGCjoV",
    "outputId": "a0a97fdb-fb98-49c3-b201-018576e228fe"
   },
   "outputs": [
    {
     "name": "stdout",
     "output_type": "stream",
     "text": [
      "1\n",
      "33.8\n",
      "2\n",
      "35.6\n"
     ]
    }
   ],
   "source": [
    "# Une fonction qui convertie le celcius en Fahrenheit\n",
    "\n",
    "def temperature (celcius):\n",
    "  \n",
    "  print(celcius)\n",
    "  \n",
    "  farhenheit = ( celcius * (9/5) ) + 32\n",
    "  print(farhenheit)\n",
    "\n",
    "  return [celcius, farhenheit]\n",
    "\n",
    "b = temperature(1)\n",
    "\n",
    "c = temperature(2)"
   ]
  },
  {
   "cell_type": "code",
   "execution_count": 6,
   "metadata": {
    "colab": {
     "base_uri": "https://localhost:8080/"
    },
    "id": "0PT8IczQEME7",
    "outputId": "214991e3-e906-4179-ab0b-8a4bae13f6f4"
   },
   "outputs": [
    {
     "name": "stdout",
     "output_type": "stream",
     "text": [
      "0\n",
      "32.0\n"
     ]
    }
   ],
   "source": [
    "d = temperature(0)"
   ]
  },
  {
   "cell_type": "code",
   "execution_count": 7,
   "metadata": {
    "id": "z4YbRBoxHabj"
   },
   "outputs": [],
   "source": [
    "def temp_(temperature, temperature_unit=\"c\", conversion_unit=\"f\"):\n",
    "  temperature = float(temperature)\n",
    "  conversion = 0.0\n",
    "\n",
    "  if (temperature_unit==\"c\") and (conversion_unit==\"f\"):\n",
    "    conversion = ( temperature*(9/5) ) + 32\n",
    "\n",
    "  elif (temperature_unit==\"c\") and (conversion_unit==\"k\"):\n",
    "    conversion = temperature + 273.15\n",
    "\n",
    "  elif (temperature_unit==\"c\") and (conversion_unit==\"c\"):\n",
    "    conversion = temperature\n",
    "\n",
    "  elif (temperature_unit==\"f\") and (conversion_unit==\"c\"):\n",
    "    conversion = ( temperature - 32 ) / (9/5)\n",
    "\n",
    "  elif (temperature_unit==\"f\") and (conversion_unit==\"k\"):\n",
    "    conversion = (( temperature - 32 ) / (9/5) ) + 273.15\n",
    "\n",
    "  elif (temperature_unit==\"f\") and (conversion_unit==\"f\"):\n",
    "    conversion = temperature\n",
    "\n",
    "  elif (temperature_unit==\"k\") and (conversion_unit==\"c\"):\n",
    "    conversion = temperature - 273.15 \n",
    "\n",
    "  elif (temperature_unit==\"k\") and (conversion_unit==\"f\"):\n",
    "    kelvin_celcius = temperature -  273.15\n",
    "    conversion = ( kelvin_celcius*(9/5) ) + 32\n",
    "\n",
    "  elif (temperature_unit==\"k\") and (conversion_unit==\"k\"):\n",
    "    conversion = temperature\n",
    "\n",
    "  else:\n",
    "    print(\"Erreur!\")\n",
    "\n",
    "  \n",
    "  return [temperature, temperature_unit, conversion, conversion_unit]\n"
   ]
  },
  {
   "cell_type": "code",
   "execution_count": 8,
   "metadata": {
    "colab": {
     "base_uri": "https://localhost:8080/"
    },
    "id": "y0j4-LhmMlPy",
    "outputId": "521cd05b-6b9b-4e8f-cea9-385d997493b8"
   },
   "outputs": [
    {
     "name": "stdout",
     "output_type": "stream",
     "text": [
      "[12.0, 'c', 12.0, 'c']\n"
     ]
    }
   ],
   "source": [
    "print(temp_(12, \"c\", \"c\"))"
   ]
  },
  {
   "cell_type": "code",
   "execution_count": 9,
   "metadata": {
    "colab": {
     "base_uri": "https://localhost:8080/"
    },
    "id": "JmvsgMN_OCEB",
    "outputId": "8f604e8c-7580-4a36-d9bd-514503983691"
   },
   "outputs": [
    {
     "name": "stdout",
     "output_type": "stream",
     "text": [
      "[12.0, 'k', -261.15, 'c']\n"
     ]
    }
   ],
   "source": [
    "print(temp_(12, \"k\", \"c\"))"
   ]
  },
  {
   "cell_type": "code",
   "execution_count": 10,
   "metadata": {
    "colab": {
     "base_uri": "https://localhost:8080/"
    },
    "id": "0bLWoQPfOV9B",
    "outputId": "682f0d59-d61f-4c38-967d-17359cf8d92c"
   },
   "outputs": [
    {
     "name": "stdout",
     "output_type": "stream",
     "text": [
      "Erreur!\n",
      "[12.0, 'p', 0.0, 'c']\n"
     ]
    }
   ],
   "source": [
    "print(temp_(12, \"p\", \"c\"))"
   ]
  },
  {
   "cell_type": "code",
   "execution_count": 11,
   "metadata": {
    "colab": {
     "base_uri": "https://localhost:8080/"
    },
    "id": "lNuSAENOOl32",
    "outputId": "bce3767d-3006-4736-ed41-eba9fcd1bfed"
   },
   "outputs": [
    {
     "data": {
      "text/plain": [
       "5"
      ]
     },
     "execution_count": 11,
     "metadata": {},
     "output_type": "execute_result"
    }
   ],
   "source": [
    "\"abracadabra\".count(\"a\")"
   ]
  },
  {
   "cell_type": "code",
   "execution_count": 12,
   "metadata": {
    "colab": {
     "base_uri": "https://localhost:8080/"
    },
    "id": "-FmMuV5VsoOI",
    "outputId": "911112a2-2d4b-46a5-9f7b-19cd42ce37f5"
   },
   "outputs": [
    {
     "data": {
      "text/plain": [
       "3"
      ]
     },
     "execution_count": 12,
     "metadata": {},
     "output_type": "execute_result"
    }
   ],
   "source": [
    "len(\"abc\")"
   ]
  },
  {
   "cell_type": "code",
   "execution_count": 13,
   "metadata": {
    "colab": {
     "base_uri": "https://localhost:8080/"
    },
    "id": "ePP2xcW3s33q",
    "outputId": "92dc212f-6176-43e3-c167-8aa6ed43a579"
   },
   "outputs": [
    {
     "name": "stdout",
     "output_type": "stream",
     "text": [
      "2\n",
      "2.56\n"
     ]
    }
   ],
   "source": [
    "a = 2.55566654448822\n",
    "# }dec_ = 3\n",
    "dec_1 = int(input())\n",
    "print(round(a, dec_1))\n",
    "\n"
   ]
  },
  {
   "cell_type": "code",
   "execution_count": 14,
   "metadata": {
    "colab": {
     "base_uri": "https://localhost:8080/"
    },
    "id": "HUy2AwzyNIA4",
    "outputId": "afc3cb9f-458c-4c4b-ffb0-fffeb0f1b5a2"
   },
   "outputs": [
    {
     "data": {
      "text/plain": [
       "4"
      ]
     },
     "execution_count": 14,
     "metadata": {},
     "output_type": "execute_result"
    }
   ],
   "source": [
    "round(3.9)\n"
   ]
  },
  {
   "cell_type": "code",
   "execution_count": 15,
   "metadata": {
    "id": "bNmvhBLsOXF4"
   },
   "outputs": [],
   "source": [
    "import math\n"
   ]
  },
  {
   "cell_type": "code",
   "execution_count": 13,
   "metadata": {
    "colab": {
     "base_uri": "https://localhost:8080/"
    },
    "id": "Zrcl09YLRd3l",
    "outputId": "87f550ef-fc26-4251-83b0-1c15062b432c"
   },
   "outputs": [
    {
     "data": {
      "text/plain": [
       "3"
      ]
     },
     "execution_count": 13,
     "metadata": {},
     "output_type": "execute_result"
    }
   ],
   "source": [
    "math.floor(3.9)"
   ]
  },
  {
   "cell_type": "code",
   "execution_count": 14,
   "metadata": {
    "colab": {
     "base_uri": "https://localhost:8080/"
    },
    "id": "MzcnUhP5RqKW",
    "outputId": "7c4d058a-6441-4c01-fd40-3e50208ada78"
   },
   "outputs": [
    {
     "data": {
      "text/plain": [
       "4"
      ]
     },
     "execution_count": 14,
     "metadata": {},
     "output_type": "execute_result"
    }
   ],
   "source": [
    "math.ceil(3.1)"
   ]
  },
  {
   "cell_type": "code",
   "execution_count": 16,
   "metadata": {
    "colab": {
     "base_uri": "https://localhost:8080/"
    },
    "id": "CmeHE0aRSkUZ",
    "outputId": "3c01b80d-8a79-45a3-ce24-a0bac96abb45",
    "scrolled": true
   },
   "outputs": [
    {
     "data": {
      "text/plain": [
       "3"
      ]
     },
     "execution_count": 16,
     "metadata": {},
     "output_type": "execute_result"
    }
   ],
   "source": [
    "math.ceil(3)"
   ]
  },
  {
   "cell_type": "code",
   "execution_count": 4,
   "metadata": {
    "colab": {
     "base_uri": "https://localhost:8080/"
    },
    "id": "qBsanB5-Ss_Q",
    "outputId": "5803dfec-973f-4f36-b565-f13af1d95c21"
   },
   "outputs": [
    {
     "data": {
      "text/plain": [
       "False"
      ]
     },
     "execution_count": 4,
     "metadata": {},
     "output_type": "execute_result"
    }
   ],
   "source": [
    "45==52"
   ]
  },
  {
   "cell_type": "code",
   "execution_count": 18,
   "metadata": {
    "colab": {
     "base_uri": "https://localhost:8080/"
    },
    "id": "G6i9ZsabUnhc",
    "outputId": "bf1d283d-5c81-487a-f7ac-4ea96ea877dd"
   },
   "outputs": [
    {
     "data": {
      "text/plain": [
       "True"
      ]
     },
     "execution_count": 18,
     "metadata": {},
     "output_type": "execute_result"
    }
   ],
   "source": [
    "5 == 5.0"
   ]
  },
  {
   "cell_type": "code",
   "execution_count": null,
   "metadata": {
    "id": "yynUuYoJU61M"
   },
   "outputs": [],
   "source": []
  }
 ],
 "metadata": {
  "colab": {
   "provenance": []
  },
  "kernelspec": {
   "display_name": "Python 3 (ipykernel)",
   "language": "python",
   "name": "python3"
  },
  "language_info": {
   "codemirror_mode": {
    "name": "ipython",
    "version": 3
   },
   "file_extension": ".py",
   "mimetype": "text/x-python",
   "name": "python",
   "nbconvert_exporter": "python",
   "pygments_lexer": "ipython3",
   "version": "3.9.13"
  }
 },
 "nbformat": 4,
 "nbformat_minor": 1
}
