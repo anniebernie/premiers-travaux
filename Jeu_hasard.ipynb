{
 "cells": [
  {
   "cell_type": "code",
   "execution_count": 32,
   "id": "6d16c513",
   "metadata": {
    "collapsed": true
   },
   "outputs": [
    {
     "name": "stdout",
     "output_type": "stream",
     "text": [
      "Bienvenue\n",
      "\n",
      "Nous allons jouer à un jeu de hasard\n",
      "Si vous arrivez à trouver le nombre généré par l'ordinateur.\n",
      "Vous sortez vainqueur avec une prime de 1,000,000 gourdes\n",
      "\n",
      "Choisissez un nombre entre 1 à 100 \n",
      "53\n",
      "50\n",
      "Le nombre choisi est inferieur.\n",
      "54\n",
      "Le nombre choisi est superieur.\n",
      "51,2\n"
     ]
    },
    {
     "ename": "ValueError",
     "evalue": "invalid literal for int() with base 10: '51,2'",
     "output_type": "error",
     "traceback": [
      "\u001b[1;31m---------------------------------------------------------------------------\u001b[0m",
      "\u001b[1;31mValueError\u001b[0m                                Traceback (most recent call last)",
      "\u001b[1;32m~\\AppData\\Local\\Temp\\ipykernel_10344\\3450591235.py\u001b[0m in \u001b[0;36m<module>\u001b[1;34m\u001b[0m\n\u001b[0;32m     35\u001b[0m \u001b[1;33m\u001b[0m\u001b[0m\n\u001b[0;32m     36\u001b[0m         \u001b[0mprint\u001b[0m\u001b[1;33m(\u001b[0m\u001b[1;34m\"Le nombre choisi est superieur.\"\u001b[0m\u001b[1;33m)\u001b[0m\u001b[1;33m\u001b[0m\u001b[1;33m\u001b[0m\u001b[0m\n\u001b[1;32m---> 37\u001b[1;33m         \u001b[0mnmbr\u001b[0m \u001b[1;33m=\u001b[0m \u001b[0mint\u001b[0m\u001b[1;33m(\u001b[0m\u001b[0minput\u001b[0m\u001b[1;33m(\u001b[0m\u001b[1;33m)\u001b[0m\u001b[1;33m)\u001b[0m\u001b[1;33m\u001b[0m\u001b[1;33m\u001b[0m\u001b[0m\n\u001b[0m\u001b[0;32m     38\u001b[0m \u001b[1;33m\u001b[0m\u001b[0m\n\u001b[0;32m     39\u001b[0m \u001b[1;33m\u001b[0m\u001b[0m\n",
      "\u001b[1;31mValueError\u001b[0m: invalid literal for int() with base 10: '51,2'"
     ]
    }
   ],
   "source": [
    "# prgm qui permet de genere des nombres entiers aleatoires de 1 à 100 et de comparer avec le nmbre entré par l'utilisateur\n",
    "\n",
    "\n",
    "\n",
    "from random import randint \n",
    "\n",
    "\n",
    "valeur = randint(1, 100) \n",
    "# valeur_f == valeur \n",
    "\n",
    "\n",
    "\n",
    "print(\"Bienvenue\\n\")\n",
    "print(\"Nous allons jouer à un jeu de hasard\")\n",
    "print(\"Si vous arrivez à trouver le nombre généré par l'ordinateur.\")\n",
    "print(\"Vous sortez vainqueur avec une prime de 1,000,000 gourdes\\n\")\n",
    "\n",
    "print(\"Choisissez un nombre entre 1 à 100 \")\n",
    "\n",
    "print(valeur)\n",
    "\n",
    "nmbr = int(input())\n",
    "\n",
    "\n",
    "while True :\n",
    "    \n",
    "    if nmbr < valeur :\n",
    "        \n",
    "        print(\"Le nombre choisi est inferieur.\")\n",
    "        nmbr = int(input())\n",
    "        \n",
    "        \n",
    "        \n",
    "    elif nmbr > valeur :\n",
    "        \n",
    "        print(\"Le nombre choisi est superieur.\")\n",
    "        nmbr = int(input())\n",
    "        \n",
    "        \n",
    "    else :\n",
    "        \n",
    "        \n",
    "        print(\"Felicitation !!!\\nVous avez réussi.\")\n",
    "        nmbr = int(input())"
   ]
  },
  {
   "cell_type": "code",
   "execution_count": null,
   "id": "881f489b",
   "metadata": {},
   "outputs": [],
   "source": []
  },
  {
   "cell_type": "code",
   "execution_count": null,
   "id": "fe3fedb7",
   "metadata": {},
   "outputs": [],
   "source": []
  }
 ],
 "metadata": {
  "kernelspec": {
   "display_name": "Python 3 (ipykernel)",
   "language": "python",
   "name": "python3"
  },
  "language_info": {
   "codemirror_mode": {
    "name": "ipython",
    "version": 3
   },
   "file_extension": ".py",
   "mimetype": "text/x-python",
   "name": "python",
   "nbconvert_exporter": "python",
   "pygments_lexer": "ipython3",
   "version": "3.9.13"
  }
 },
 "nbformat": 4,
 "nbformat_minor": 5
}
