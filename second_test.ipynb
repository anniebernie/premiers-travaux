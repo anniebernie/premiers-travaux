{
  "cells": [
    {
      "cell_type": "code",
      "execution_count": null,
      "metadata": {
        "colab": {
          "background_save": true,
          "base_uri": "https://localhost:8080/"
        },
        "id": "gk9qVKEBszVW",
        "outputId": "fb3c0f97-a836-4120-b510-4c637f70bc45"
      },
      "outputs": [
        {
          "name": "stdout",
          "output_type": "stream",
          "text": [
            "8.717797887081346\n",
            "-20.032997284553037\n",
            "140.03299728455303\n"
          ]
        }
      ],
      "source": [
        "def triangle (first_side, second_side, first_angle):\n",
        "  import math\n",
        "\n",
        "  first_angle = first_angle\n",
        "\n",
        "  second_side = second_side\n",
        "\n",
        "  first_angle = \n",
        "\n",
        "\n",
        "\n",
        "  first_angle_rad = math.radians(float(first_angle))\n",
        "  side3 = math.sqrt( (float(first_side**2)) + float((second_side**2)) - 2*float(first_side)*float(second_side)*math.cos(float(first_angle_rad)) )\n",
        "  print(side3)\n",
        "\n",
        "  angle2 = (float(first_side) * math.sin(float(first_angle)) )/ float(side3)\n",
        "  angle2_degrees = math.degrees(angle2)\n",
        "  print(angle2_degrees)\n",
        "\n",
        "  angle3_degrees = 180 - first_angle - angle2_degrees\n",
        "  print(angle3_degrees)\n",
        "\n",
        "  return[first_side, second_side, first_angle, side3, angle2_degrees, angle3_degrees ]\n",
        "\n",
        "\n",
        "a = triangle (10, 6, 60)\n",
        "\n",
        "\n",
        "\n",
        "\n"
      ]
    },
    {
      "cell_type": "code",
      "execution_count": null,
      "metadata": {
        "id": "3CLRFW5u43T0"
      },
      "outputs": [],
      "source": []
    }
  ],
  "metadata": {
    "colab": {
      "provenance": []
    },
    "kernelspec": {
      "display_name": "Python 3",
      "name": "python3"
    },
    "language_info": {
      "name": "python"
    }
  },
  "nbformat": 4,
  "nbformat_minor": 0
}